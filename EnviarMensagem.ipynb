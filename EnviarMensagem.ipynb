{
 "cells": [
  {
   "cell_type": "code",
   "execution_count": 1,
   "id": "5359c33c-6538-4a48-bad9-bd16cdc20d11",
   "metadata": {
    "scrolled": true
   },
   "outputs": [
    {
     "name": "stdout",
     "output_type": "stream",
     "text": [
      "Mensagem enviada para +55 41 9252-0199\n",
      "Mensagem enviada para +55 43 9910-9223\n",
      "Mensagem enviada para +55 46 9914-7065\n",
      "Mensagem enviada para +55 47 9226-9261\n",
      "Mensagem enviada para +55 49 8838-7558\n",
      "Mensagem enviada para +55 62 8543-5594\n"
     ]
    }
   ],
   "source": [
    "import pandas as pd\n",
    "import webbrowser\n",
    "import pyautogui\n",
    "import time\n",
    "import pyperclip\n",
    "import tkinter as tk\n",
    "from tkinter import simpledialog, messagebox, filedialog\n",
    "\n",
    "def abrir_whatsapp_web():\n",
    "    webbrowser.open(\"https://web.whatsapp.com\")\n",
    "\n",
    "def enviar_mensagens(df, mensagem):\n",
    "    root = tk.Tk()\n",
    "    root.withdraw()\n",
    "    primeira_vez = True\n",
    "    \n",
    "    for index, row in df.iterrows():\n",
    "        numero = row['Número']\n",
    "        \n",
    "        if pd.isna(numero):\n",
    "            continue\n",
    "        \n",
    "        if primeira_vez:\n",
    "            abrir_whatsapp_web()\n",
    "            primeira_vez = False\n",
    "            time.sleep(5)\n",
    "        try:\n",
    "            pyautogui.hotkey('ctrl', 'alt', 'n')\n",
    "            time.sleep(0.5)\n",
    "            pyautogui.typewrite(numero.replace('+', ''))\n",
    "            time.sleep(1)\n",
    "            pyautogui.press('enter')\n",
    "            time.sleep(0.5)\n",
    "            pyperclip.copy(mensagem)\n",
    "            pyautogui.hotkey('ctrl', 'v')\n",
    "            pyautogui.press(\"enter\")\n",
    "            print(f\"Mensagem enviada para {numero}\")\n",
    "            time.sleep(0.5)\n",
    "        except Exception as e:\n",
    "            print(f\"Erro ao enviar mensagem para {numero}: {e}\")\n",
    "    \n",
    "    messagebox.showinfo(\"Concluído\", \"Envio de mensagens concluído com sucesso!\")\n",
    "\n",
    "def main():\n",
    "    root = tk.Tk()\n",
    "    root.withdraw()\n",
    "    base_path = filedialog.askopenfilename(\n",
    "        title=\"Selecione o arquivo do Excel\",\n",
    "        filetypes=[(\"Arquivos do Excel\", \"*.xlsx *.xls *.xlsm\")]\n",
    "    )\n",
    "    if not base_path:\n",
    "        messagebox.showinfo(\"Nenhum arquivo selecionado\", \"Nenhum arquivo foi selecionado. O programa será encerrado.\")\n",
    "        return\n",
    "    \n",
    "    df = pd.read_excel(base_path, sheet_name='ACOMPANHAMENTO', header=8)\n",
    "    df_selecionado = df[['Número']]\n",
    "    \n",
    "    mensagem = simpledialog.askstring(\"Mensagem Personalizada\", \"Digite a mensagem que deseja enviar:\")\n",
    "    if not mensagem:\n",
    "        messagebox.showinfo(\"Nenhuma mensagem informada\", \"Nenhuma mensagem foi informada. O programa será encerrado.\")\n",
    "        return\n",
    "    \n",
    "    enviar_mensagens(df_selecionado, mensagem)\n",
    "\n",
    "if __name__ == '__main__':\n",
    "    main()"
   ]
  }
 ],
 "metadata": {
  "kernelspec": {
   "display_name": "Python 3 (ipykernel)",
   "language": "python",
   "name": "python3"
  },
  "language_info": {
   "codemirror_mode": {
    "name": "ipython",
    "version": 3
   },
   "file_extension": ".py",
   "mimetype": "text/x-python",
   "name": "python",
   "nbconvert_exporter": "python",
   "pygments_lexer": "ipython3",
   "version": "3.11.0"
  }
 },
 "nbformat": 4,
 "nbformat_minor": 5
}
