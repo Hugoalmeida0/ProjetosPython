{
 "cells": [
  {
   "cell_type": "code",
   "execution_count": null,
   "id": "0cf122a9-1ff5-4416-8cc1-b0c30cd203f4",
   "metadata": {
    "editable": true,
    "slideshow": {
     "slide_type": ""
    },
    "tags": []
   },
   "outputs": [],
   "source": [
    "import pandas as pd\n",
    "import webbrowser\n",
    "import pyautogui\n",
    "import time\n",
    "import pyperclip\n",
    "import tkinter as tk\n",
    "from tkinter import filedialog, messagebox\n",
    "\n",
    "def enviar_mensagens_nps(df):\n",
    "    primeira_vez = True\n",
    "\n",
    "    for index, row in df.iterrows():\n",
    "        numero = str(row['Número'])\n",
    "        nome_loja = row['Nome Cliente']\n",
    "        nps_score = row['NPS Score']\n",
    "        aderencia_nps = row['% AderênciaNPS']\n",
    "\n",
    "        if nps_score == \"Sem Nota\" or aderencia_nps == \"Sem Nota\":\n",
    "            continue\n",
    "\n",
    "        nps_score = float(nps_score) * 100\n",
    "        aderencia_nps = float(aderencia_nps) * 100\n",
    "\n",
    "        mensagem = (\n",
    "            f\"Bom dia!! Tudo bem?☀️\\n\\n\"\n",
    "            f\"Passando apenas para compartilhar com a loja como estamos com o indicador de NPS, vale ressaltar que é o principal impulsionador de nossa parceria.\\n\\n\"\n",
    "            f\"📊 *Resultado da {nome_loja}:*\\n\"\n",
    "            f\"NPS Score: {nps_score:.2f}%\\n\"\n",
    "            f\"% Aderência dos Clientes: {aderencia_nps:.2f}%\\n\\n\"\n",
    "            f\"Qualquer dúvida ou sugestão, sigo à disposição!\"\n",
    "        )\n",
    "\n",
    "        if primeira_vez:\n",
    "            webbrowser.open(\"https://web.whatsapp.com\")\n",
    "            primeira_vez = False\n",
    "            time.sleep(7)\n",
    "        \n",
    "        pyautogui.hotkey('ctrl', 'alt', 'n')\n",
    "        time.sleep(1)\n",
    "        pyautogui.typewrite(numero.replace('+', ''))\n",
    "        time.sleep(0.5)\n",
    "        pyautogui.press('enter')\n",
    "\n",
    "        pyperclip.copy(mensagem)\n",
    "        time.sleep(1)\n",
    "        pyautogui.hotkey('ctrl', 'v')\n",
    "        pyautogui.press(\"enter\")\n",
    "        print(f\"Mensagem enviada para {numero}\")\n",
    "\n",
    "# Abrir janela para selecionar o arquivo\n",
    "root = tk.Tk()\n",
    "root.withdraw()\n",
    "\n",
    "base_path = filedialog.askopenfilename(\n",
    "    title=\"Selecione o arquivo do Excel\",\n",
    "    filetypes=[(\"Arquivos do Excel\", \"*.xlsx *.xls *.xlsm\")]\n",
    ")\n",
    "\n",
    "if not base_path:\n",
    "    messagebox.showinfo(\"Nenhum arquivo selecionado\", \"Nenhum arquivo foi selecionado. O programa será encerrado.\")\n",
    "    exit()\n",
    "\n",
    "# Ler os dados\n",
    "df = pd.read_excel(base_path, sheet_name='ACOMPANHAMENTO', header=8)\n",
    "df = df[['Número', 'Nome Cliente', 'NPS Score', '% AderênciaNPS']]  # apenas as colunas necessárias\n",
    "\n",
    "print(df.head())\n",
    "enviar_mensagens_nps(df)\n"
   ]
  }
 ],
 "metadata": {
  "kernelspec": {
   "display_name": "Python 3 (ipykernel)",
   "language": "python",
   "name": "python3"
  },
  "language_info": {
   "codemirror_mode": {
    "name": "ipython",
    "version": 3
   },
   "file_extension": ".py",
   "mimetype": "text/x-python",
   "name": "python",
   "nbconvert_exporter": "python",
   "pygments_lexer": "ipython3",
   "version": "3.11.0"
  }
 },
 "nbformat": 4,
 "nbformat_minor": 5
}
